{
 "cells": [
  {
   "cell_type": "code",
   "execution_count": 1,
   "metadata": {},
   "outputs": [
    {
     "name": "stderr",
     "output_type": "stream",
     "text": [
      "/home/hilal/anaconda3/envs/tf9/lib/python2.7/site-packages/h5py/__init__.py:36: FutureWarning: Conversion of the second argument of issubdtype from `float` to `np.floating` is deprecated. In future, it will be treated as `np.float64 == np.dtype(float).type`.\n",
      "  from ._conv import register_converters as _register_converters\n",
      "Using TensorFlow backend.\n"
     ]
    }
   ],
   "source": [
    "import os\n",
    "os.environ[\"CUDA_DEVICE_ORDER\"]=\"PCI_BUS_ID\"   \n",
    "os.environ[\"CUDA_VISIBLE_DEVICES\"]=\"\"\n",
    "import re\n",
    "import numpy as np\n",
    "import random\n",
    "np.random.seed(1337) \n",
    "from Bio import SeqIO\n",
    "\n",
    "import keras\n",
    "from keras.layers import *\n",
    "from keras.models import Model\n",
    "from keras.optimizers import Adam\n",
    "from keras.initializers import RandomUniform\n",
    "\n"
   ]
  },
  {
   "cell_type": "code",
   "execution_count": 2,
   "metadata": {},
   "outputs": [],
   "source": [
    "def check(line):\n",
    "    if (re.match('[ACTGactg]',line))and(len(re.findall('\\S',line))==41):\n",
    "        return True \n",
    "    else:\n",
    "        return False\n",
    "\n",
    "    \n",
    "def get_onehot(seq): \n",
    "    seq = str(seq).upper()\n",
    "    d = np.array(['A','C','G','T'])\n",
    "    y = np.frombuffer(seq, dtype='|S1')[:, np.newaxis] == d\n",
    "    return y\n"
   ]
  },
  {
   "cell_type": "code",
   "execution_count": 3,
   "metadata": {},
   "outputs": [],
   "source": [
    "def get_m6a_model():\n",
    "    inp = Input((41,4))\n",
    "    x= Conv1D(8,5,padding='same',activation='relu',kernel_initializer=keras.initializers.RandomUniform())(inp)\n",
    "    x= Conv1D(4,3,padding='same',activation='relu',kernel_initializer=keras.initializers.RandomUniform())(x)\n",
    "    x = Flatten()(x)\n",
    "    x = Dropout(0.25)(x)\n",
    "    prediction = Dense(1,activation='sigmoid')(x)\n",
    "    model = Model(inp,prediction)\n",
    "    opt = Adam(lr=0.0001,amsgrad = True)\n",
    "    model.compile(loss='binary_crossentropy', optimizer=opt, metrics=['accuracy'])\n",
    "    model.load_weights(\"best_weights.hdf5\")\n",
    "    return model"
   ]
  },
  {
   "cell_type": "code",
   "execution_count": 4,
   "metadata": {},
   "outputs": [],
   "source": [
    "model = get_m6a_model()"
   ]
  },
  {
   "cell_type": "code",
   "execution_count": 5,
   "metadata": {},
   "outputs": [
    {
     "name": "stdout",
     "output_type": "stream",
     "text": [
      "_________________________________________________________________\n",
      "Layer (type)                 Output Shape              Param #   \n",
      "=================================================================\n",
      "input_1 (InputLayer)         (None, 41, 4)             0         \n",
      "_________________________________________________________________\n",
      "conv1d_1 (Conv1D)            (None, 41, 8)             168       \n",
      "_________________________________________________________________\n",
      "conv1d_2 (Conv1D)            (None, 41, 4)             100       \n",
      "_________________________________________________________________\n",
      "flatten_1 (Flatten)          (None, 164)               0         \n",
      "_________________________________________________________________\n",
      "dropout_1 (Dropout)          (None, 164)               0         \n",
      "_________________________________________________________________\n",
      "dense_1 (Dense)              (None, 1)                 165       \n",
      "=================================================================\n",
      "Total params: 433\n",
      "Trainable params: 433\n",
      "Non-trainable params: 0\n",
      "_________________________________________________________________\n",
      "None\n"
     ]
    }
   ],
   "source": [
    "print model.summary()"
   ]
  },
  {
   "cell_type": "code",
   "execution_count": 6,
   "metadata": {},
   "outputs": [],
   "source": [
    "def process_fasta(inpfile,outfile,model,thresh):\n",
    "    res= open(outfile+'.txt','w')\n",
    "    cnt = 0\n",
    "    print inpfile\n",
    "    output = []\n",
    "    \n",
    "    for record in SeqIO.parse(inpfile, \"fasta\"):\n",
    "        seq=str(record.seq)\n",
    "        if check(seq)==False:\n",
    "            continue\n",
    "     \n",
    "        idx = str(record.id)\n",
    "        one_hot = np.expand_dims(np.asarray(get_onehot(seq),dtype=np.float), axis=0)\n",
    "        pred= model.predict(one_hot)\n",
    "\n",
    "        if pred[0][0]>=thresh:\n",
    "            tmp = [idx,seq, 'i6mA site']\n",
    "            res.write(str(record.id)+','+'i6mA site'+'\\n')\n",
    "        else:\n",
    "            tmp = [idx, seq, 'Not a '+'i6mA site']\n",
    "            res.write(str(record.id)+','+'Not an '+ 'i6mA site'+'\\n')\n",
    "        output.append(tmp)\n",
    "        cnt+=1\n",
    "        if cnt == 1000:\n",
    "            break\n",
    "    res.close()\n",
    "    return output        \n",
    "        "
   ]
  },
  {
   "cell_type": "code",
   "execution_count": 7,
   "metadata": {},
   "outputs": [
    {
     "name": "stdout",
     "output_type": "stream",
     "text": [
      "test.fa\n"
     ]
    },
    {
     "data": {
      "text/plain": [
       "[['seq1', 'AATTGGATAGGGAGAAGCCGATGTAGCTGATTCTAGCAAGA', 'i6mA site'],\n",
       " ['seq2', 'GTATATAACTTTTTTCTTCAAGGCAGCAGGTGTCTGCCTAA', 'i6mA site'],\n",
       " ['seq3', 'AACGGGTGGACGTCCACCCGAATGATTAGAATCCCTCTCCA', 'i6mA site'],\n",
       " ['seq4', 'GAGCAATTTAGGGATGAGTGACCGACCGGGAAATTCTTCTC', 'i6mA site'],\n",
       " ['seq5', 'CCCAGGCCGGGCCCGCTTAAATCTGGCAGCTCTCATAGGTC', 'i6mA site'],\n",
       " ['seq6', 'AGGGACATAATCACGTTTCGAGGCAAATTTTGAATATATTT', 'i6mA site'],\n",
       " ['seq7', 'AAAAAAAATGATGGAAATTGAGGTACCACCAGTGTCAGTAT', 'i6mA site'],\n",
       " ['seq8', 'GCAAAGGGGTTGAGAAAAAGATGTACCAAGAAATCCAAGGG', 'i6mA site'],\n",
       " ['seq9', 'AATACATGGGGTTATGTGCCACCGGTCATAATATCTAGGGT', 'i6mA site'],\n",
       " ['seq10', 'CATAAATATATGGTTTACTGATATGGCAGCAAATTCCGAGA', 'i6mA site'],\n",
       " ['seq11', 'GGCAACGAAATCATATTCCCAGTTGAAACTCAAGAAGGGCC', 'i6mA site'],\n",
       " ['seq12', 'GAAAGTCTTATGACTTGTGTATTGTCTACCTTGCCAGCATC', 'Not a i6mA site'],\n",
       " ['seq13', 'GTATTGTCTACCTTGCCAGCATCTTGTGAGCAGCATAGTGT', 'Not a i6mA site'],\n",
       " ['seq14', 'GCAGCATAGTGTTGCTACCAATTTGGATAATCCTGGAAACA', 'Not a i6mA site'],\n",
       " ['seq15', 'GGATAATCCTGGAAACAATGAAACTGTTATGGCTCATGATG', 'Not a i6mA site']]"
      ]
     },
     "execution_count": 7,
     "metadata": {},
     "output_type": "execute_result"
    }
   ],
   "source": [
    "process_fasta('test.fa','test.txt', model,0.5)"
   ]
  },
  {
   "cell_type": "code",
   "execution_count": null,
   "metadata": {},
   "outputs": [],
   "source": []
  }
 ],
 "metadata": {
  "kernelspec": {
   "display_name": "Python 2",
   "language": "python",
   "name": "python2"
  },
  "language_info": {
   "codemirror_mode": {
    "name": "ipython",
    "version": 2
   },
   "file_extension": ".py",
   "mimetype": "text/x-python",
   "name": "python",
   "nbconvert_exporter": "python",
   "pygments_lexer": "ipython2",
   "version": "2.7.14"
  }
 },
 "nbformat": 4,
 "nbformat_minor": 2
}
